{
 "cells": [
  {
   "cell_type": "markdown",
   "id": "de2e4a3a",
   "metadata": {},
   "source": [
    "# 複合運算子\n",
    "- +=\n",
    "- -=\n",
    "- *=\n",
    "- /=\n",
    "- //=\n",
    "- %=\n",
    "- **="
   ]
  },
  {
   "cell_type": "code",
   "execution_count": 1,
   "id": "d629df28",
   "metadata": {},
   "outputs": [
    {
     "name": "stdout",
     "output_type": "stream",
     "text": [
      "15\n"
     ]
    }
   ],
   "source": [
    "n=5\n",
    "n=n+10\n",
    "print(n)"
   ]
  },
  {
   "cell_type": "code",
   "execution_count": 2,
   "id": "3d092656",
   "metadata": {},
   "outputs": [
    {
     "name": "stdout",
     "output_type": "stream",
     "text": [
      "15\n"
     ]
    }
   ],
   "source": [
    "n=5\n",
    "n+=10 #複合指定運算子\n",
    "print(n)"
   ]
  },
  {
   "cell_type": "markdown",
   "id": "8f7fd2e5",
   "metadata": {},
   "source": [
    "使用內建的函式庫(math)"
   ]
  },
  {
   "cell_type": "code",
   "execution_count": 1,
   "id": "6d56f598",
   "metadata": {},
   "outputs": [
    {
     "name": "stdout",
     "output_type": "stream",
     "text": [
      "鄰邊: 7\n",
      "對邊: 24\n",
      "斜邊: 25.0\n"
     ]
    }
   ],
   "source": [
    "#國中數學\n",
    "import math\n",
    "side=eval(input(\"請輸入鄰邊:\"))\n",
    "another_side=eval(input(\"請輸入對邊:\"))\n",
    "result=math.sqrt(side**2+another_side**2)\n",
    "print(\"鄰邊:\",side)\n",
    "print(\"對邊:\",another_side)\n",
    "print(\"斜邊:\",result)\n"
   ]
  },
  {
   "cell_type": "code",
   "execution_count": 7,
   "id": "a017b4dc",
   "metadata": {},
   "outputs": [
    {
     "name": "stdout",
     "output_type": "stream",
     "text": [
      "對邊:1\n",
      "斜邊:2\n",
      "角度是:30.00\n"
     ]
    }
   ],
   "source": [
    "#高中數學\n",
    "import math\n",
    "side = eval(input(\"請輸入對邊:\"))\n",
    "another_side = eval(input(\"請輸入斜邊:\"))\n",
    "radian = math.asin(side / another_side)\n",
    "degree = math.degrees(radian)\n",
    "print(f\"對邊:{side}\")\n",
    "print(f\"斜邊:{another_side}\")\n",
    "print(f\"角度是:{degree:.2f}\")"
   ]
  },
  {
   "cell_type": "markdown",
   "id": "c77c9e38",
   "metadata": {},
   "source": [
    "# 字串插補(字串的格式化)"
   ]
  },
  {
   "cell_type": "code",
   "execution_count": 4,
   "id": "550a586d",
   "metadata": {},
   "outputs": [
    {
     "name": "stdout",
     "output_type": "stream",
     "text": [
      "國文成績:92數學成績:100\n"
     ]
    }
   ],
   "source": [
    "#字串相加\n",
    "chinese=92\n",
    "math=100\n",
    "print(\"國文成績:\"+str(chinese)+\"數學成績:\"+str(math))"
   ]
  },
  {
   "cell_type": "code",
   "execution_count": 6,
   "id": "9d7168c0",
   "metadata": {},
   "outputs": [
    {
     "data": {
      "text/plain": [
       "'國文成績:92.346,數學成績:100'"
      ]
     },
     "execution_count": 6,
     "metadata": {},
     "output_type": "execute_result"
    }
   ],
   "source": [
    "#字串和變數整合,成為全新的字串\n",
    "#字串插補\n",
    "chinese=92.34567\n",
    "math=100\n",
    "f\"國文成績:{chinese:.3f},數學成績:{math}\""
   ]
  }
 ],
 "metadata": {
  "kernelspec": {
   "display_name": "base",
   "language": "python",
   "name": "python3"
  },
  "language_info": {
   "codemirror_mode": {
    "name": "ipython",
    "version": 3
   },
   "file_extension": ".py",
   "mimetype": "text/x-python",
   "name": "python",
   "nbconvert_exporter": "python",
   "pygments_lexer": "ipython3",
   "version": "3.13.2"
  }
 },
 "nbformat": 4,
 "nbformat_minor": 5
}
