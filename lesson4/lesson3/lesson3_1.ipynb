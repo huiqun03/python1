{
 "cells": [
  {
   "cell_type": "markdown",
   "id": "6d5926ff",
   "metadata": {},
   "source": [
    "數值運算(int,float)"
   ]
  },
  {
   "cell_type": "markdown",
   "id": "8981b64a",
   "metadata": {},
   "source": [
    "數學運算子"
   ]
  },
  {
   "cell_type": "markdown",
   "id": "0a5dea7d",
   "metadata": {},
   "source": [
    "運算子運算順序"
   ]
  },
  {
   "cell_type": "code",
   "execution_count": 2,
   "id": "1c6db743",
   "metadata": {},
   "outputs": [
    {
     "data": {
      "text/plain": [
       "10"
      ]
     },
     "execution_count": 2,
     "metadata": {},
     "output_type": "execute_result"
    }
   ],
   "source": [
    "2*(1+2)**2-2**2*2"
   ]
  },
  {
   "cell_type": "code",
   "execution_count": 3,
   "id": "54c41ce8",
   "metadata": {},
   "outputs": [
    {
     "data": {
      "text/plain": [
       "25"
      ]
     },
     "execution_count": 3,
     "metadata": {},
     "output_type": "execute_result"
    }
   ],
   "source": [
    "5+10 #運算式\n",
    "20+5 #運算式"
   ]
  },
  {
   "cell_type": "markdown",
   "id": "e57cd946",
   "metadata": {},
   "source": [
    "建立變數\n",
    "* 依靠指定運算子"
   ]
  },
  {
   "cell_type": "code",
   "execution_count": 4,
   "id": "81181831",
   "metadata": {},
   "outputs": [
    {
     "name": "stdout",
     "output_type": "stream",
     "text": [
      "total 40\n"
     ]
    }
   ],
   "source": [
    "n=15 #敘述式\n",
    "m=25 #敘述式\n",
    "total=n+m #敘述式\n",
    "print(\"total\",total) #敘述式"
   ]
  },
  {
   "cell_type": "code",
   "execution_count": 5,
   "id": "da862909",
   "metadata": {},
   "outputs": [
    {
     "name": "stdout",
     "output_type": "stream",
     "text": [
      "15 25\n"
     ]
    }
   ],
   "source": [
    "x=5+10\n",
    "y=20+5\n",
    "print(x,y)"
   ]
  },
  {
   "cell_type": "markdown",
   "id": "fd54c0b1",
   "metadata": {},
   "source": [
    "輸入\n",
    "* input()"
   ]
  },
  {
   "cell_type": "markdown",
   "id": "fef3741c",
   "metadata": {},
   "source": [
    "輸出\n",
    "* print()"
   ]
  }
 ],
 "metadata": {
  "kernelspec": {
   "display_name": "base",
   "language": "python",
   "name": "python3"
  },
  "language_info": {
   "codemirror_mode": {
    "name": "ipython",
    "version": 3
   },
   "file_extension": ".py",
   "mimetype": "text/x-python",
   "name": "python",
   "nbconvert_exporter": "python",
   "pygments_lexer": "ipython3",
   "version": "3.12.9"
  }
 },
 "nbformat": 4,
 "nbformat_minor": 5
}
