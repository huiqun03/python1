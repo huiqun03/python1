{
 "cells": [
  {
   "cell_type": "markdown",
   "id": "de2e4a3a",
   "metadata": {},
   "source": [
    "# 複合運算子\n",
    "- +=\n",
    "- -=\n",
    "- *=\n",
    "- /=\n",
    "- //=\n",
    "- %=\n",
    "- **="
   ]
  },
  {
   "cell_type": "code",
   "execution_count": 1,
   "id": "d629df28",
   "metadata": {},
   "outputs": [
    {
     "name": "stdout",
     "output_type": "stream",
     "text": [
      "15\n"
     ]
    }
   ],
   "source": [
    "n=5\n",
    "n=n+10\n",
    "print(n)"
   ]
  },
  {
   "cell_type": "code",
   "execution_count": 2,
   "id": "3d092656",
   "metadata": {},
   "outputs": [
    {
     "name": "stdout",
     "output_type": "stream",
     "text": [
      "15\n"
     ]
    }
   ],
   "source": [
    "n=5\n",
    "n+=10 #複合指定運算子\n",
    "print(n)"
   ]
  },
  {
   "cell_type": "markdown",
   "id": "8f7fd2e5",
   "metadata": {},
   "source": [
    "使用內建的函式庫(math)"
   ]
  },
  {
   "cell_type": "code",
   "execution_count": 4,
   "id": "6d56f598",
   "metadata": {},
   "outputs": [
    {
     "name": "stdout",
     "output_type": "stream",
     "text": [
      "鄰邊: 3\n",
      "對邊: 4\n",
      "斜邊: 5.0\n"
     ]
    }
   ],
   "source": [
    "#國中數學\n",
    "import math\n",
    "side=eval(input(\"請輸入對邊:\"))\n",
    "another_side=eval(input(\"請輸入斜邊:\"))\n",
    "result=math.sqrt(side**2+another_side**2)\n",
    "print(\"鄰邊:\",side)\n",
    "print(\"對邊:\",another_side)\n",
    "print(\"斜邊:\",result)\n"
   ]
  }
 ],
 "metadata": {
  "kernelspec": {
   "display_name": "base",
   "language": "python",
   "name": "python3"
  },
  "language_info": {
   "codemirror_mode": {
    "name": "ipython",
    "version": 3
   },
   "file_extension": ".py",
   "mimetype": "text/x-python",
   "name": "python",
   "nbconvert_exporter": "python",
   "pygments_lexer": "ipython3",
   "version": "3.12.9"
  }
 },
 "nbformat": 4,
 "nbformat_minor": 5
}
