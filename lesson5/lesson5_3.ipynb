{
 "cells": [
  {
   "cell_type": "markdown",
   "id": "bc68c8eb",
   "metadata": {},
   "source": [
    "### while\n",
    "### 不知執行的次數"
   ]
  },
  {
   "cell_type": "code",
   "execution_count": 1,
   "id": "eb437887",
   "metadata": {},
   "outputs": [
    {
     "name": "stdout",
     "output_type": "stream",
     "text": [
      "恭喜！已經存了10個月，總共存了35250元\n"
     ]
    }
   ],
   "source": [
    "#小明想要存錢買一輛機車，機車每輛30000元，他將每月存的錢輸入，當存款足夠買機車時，就顯示提示訊息告知。\n",
    "\n",
    "deposite=0\n",
    "month=0\n",
    "while(deposite<30000):\n",
    "    month+=1\n",
    "    input_value=int(input(f\"請輸入第{month}月份的存款\"))\n",
    "    deposite+=input_value\n",
    "print(f\"恭喜！已經存了{month}個月，總共存了{deposite}元\")\n"
   ]
  },
  {
   "cell_type": "markdown",
   "id": "39a83349",
   "metadata": {},
   "source": [
    "### 使用break,continue"
   ]
  },
  {
   "cell_type": "code",
   "execution_count": 2,
   "id": "67e23909",
   "metadata": {},
   "outputs": [
    {
     "name": "stdout",
     "output_type": "stream",
     "text": [
      "83的平方是6889\n",
      "65的平方是4225\n",
      "3的平方是9\n",
      "應用程式結束\n"
     ]
    }
   ],
   "source": [
    "#奇數輸出平方\n",
    "#偶數不做任何動作\n",
    "#'q'要離開\n",
    "\n",
    "while(True):\n",
    "    value=input(\"請輸入整數，輸入[q]離開:\")\n",
    "    if value==\"q\":\n",
    "        break\n",
    "    elif(int(value)%2==0):\n",
    "        continue\n",
    "    else:\n",
    "        print(f\"{value}的平方是{int(value)**2}\")\n",
    "print(\"應用程式結束\")"
   ]
  },
  {
   "cell_type": "code",
   "execution_count": null,
   "id": "c4189381",
   "metadata": {},
   "outputs": [
    {
     "name": "stdout",
     "output_type": "stream",
     "text": [
      "6\n",
      "===========猜數字遊戲==========\n",
      "\n",
      "再小一點\n",
      "再大一點\n",
      "您已經猜了2次\n",
      "賓果！猜對了，答案是6\n",
      "您猜了3次\n",
      "再小一點\n",
      "再小一點\n",
      "賓果！猜對了，答案是6\n",
      "您猜了6次\n"
     ]
    },
    {
     "ename": "ValueError",
     "evalue": "invalid literal for int() with base 10: ''",
     "output_type": "error",
     "traceback": [
      "\u001b[31m---------------------------------------------------------------------------\u001b[39m",
      "\u001b[31mValueError\u001b[39m                                Traceback (most recent call last)",
      "\u001b[36mCell\u001b[39m\u001b[36m \u001b[39m\u001b[32mIn[4]\u001b[39m\u001b[32m, line 11\u001b[39m\n\u001b[32m      9\u001b[39m \u001b[38;5;28;01mwhile\u001b[39;00m(\u001b[38;5;28;01mTrue\u001b[39;00m):\n\u001b[32m     10\u001b[39m     count+=\u001b[32m1\u001b[39m\n\u001b[32m---> \u001b[39m\u001b[32m11\u001b[39m     keyin=\u001b[38;5;28;43mint\u001b[39;49m\u001b[43m(\u001b[49m\u001b[38;5;28;43minput\u001b[39;49m\u001b[43m(\u001b[49m\u001b[33;43mf\u001b[39;49m\u001b[33;43m\"\u001b[39;49m\u001b[33;43m猜數字範圍\u001b[39;49m\u001b[38;5;132;43;01m{\u001b[39;49;00m\u001b[38;5;28;43mmin\u001b[39;49m\u001b[38;5;132;43;01m}\u001b[39;49;00m\u001b[33;43m~\u001b[39;49m\u001b[38;5;132;43;01m{\u001b[39;49;00m\u001b[38;5;28;43mmax\u001b[39;49m\u001b[38;5;132;43;01m}\u001b[39;49;00m\u001b[33;43m:\u001b[39;49m\u001b[33;43m\"\u001b[39;49m\u001b[43m)\u001b[49m\u001b[43m)\u001b[49m\n\u001b[32m     12\u001b[39m     \u001b[38;5;28;01mif\u001b[39;00m(keyin>=\u001b[38;5;28mmin\u001b[39m \u001b[38;5;129;01mand\u001b[39;00m keyin<=\u001b[38;5;28mmax\u001b[39m):\n\u001b[32m     13\u001b[39m         \u001b[38;5;28;01mif\u001b[39;00m(keyin==target):\n",
      "\u001b[31mValueError\u001b[39m: invalid literal for int() with base 10: ''"
     ]
    }
   ],
   "source": [
    "import random\n",
    "\n",
    "min=1\n",
    "max=100\n",
    "count=0\n",
    "target=random.randint(min,max)\n",
    "print(target)\n",
    "print(\"===========猜數字遊戲==========\\n\");\n",
    "while(True):\n",
    "    count+=1\n",
    "    keyin=int(input(f\"猜數字範圍{min}~{max}:\"))\n",
    "    if(keyin>=min and keyin<=max):\n",
    "        if(keyin==target):\n",
    "            print(f\"賓果！猜對了，答案是{target}\")\n",
    "            print(f\"您猜了{count}次\")\n",
    "            break\n",
    "        elif(keyin>target):\n",
    "            print(\"再小一點\")\n",
    "            max=keyin-1\n",
    "        elif(keyin<target):\n",
    "            print(\"再大一點\")\n",
    "            min=keyin+1\n",
    "            print(f\"您已經猜了{count}次\")\n",
    "    else:\n",
    "        print(\"請輸入提示範圍內的數字\")\n",
    "print(\"遊戲結束\")"
   ]
  }
 ],
 "metadata": {
  "kernelspec": {
   "display_name": "base",
   "language": "python",
   "name": "python3"
  },
  "language_info": {
   "codemirror_mode": {
    "name": "ipython",
    "version": 3
   },
   "file_extension": ".py",
   "mimetype": "text/x-python",
   "name": "python",
   "nbconvert_exporter": "python",
   "pygments_lexer": "ipython3",
   "version": "3.12.9"
  }
 },
 "nbformat": 4,
 "nbformat_minor": 5
}
