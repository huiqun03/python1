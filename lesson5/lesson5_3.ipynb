{
 "cells": [
  {
   "cell_type": "markdown",
   "id": "bc68c8eb",
   "metadata": {},
   "source": [
    "### while\n",
    "### 不知執行的次數"
   ]
  },
  {
   "cell_type": "code",
   "execution_count": 1,
   "id": "eb437887",
   "metadata": {},
   "outputs": [
    {
     "name": "stdout",
     "output_type": "stream",
     "text": [
      "恭喜！已經存了10個月，總共存了35250元\n"
     ]
    }
   ],
   "source": [
    "#小明想要存錢買一輛機車，機車每輛30000元，他將每月存的錢輸入，當存款足夠買機車時，就顯示提示訊息告知。\n",
    "\n",
    "deposite=0\n",
    "month=0\n",
    "while(deposite<30000):\n",
    "    month+=1\n",
    "    input_value=int(input(f\"請輸入第{month}月份的存款\"))\n",
    "    deposite+=input_value\n",
    "print(f\"恭喜！已經存了{month}個月，總共存了{deposite}元\")\n"
   ]
  },
  {
   "cell_type": "markdown",
   "id": "39a83349",
   "metadata": {},
   "source": [
    "### 使用break,continue"
   ]
  },
  {
   "cell_type": "code",
   "execution_count": 2,
   "id": "67e23909",
   "metadata": {},
   "outputs": [
    {
     "name": "stdout",
     "output_type": "stream",
     "text": [
      "83的平方是6889\n",
      "65的平方是4225\n",
      "3的平方是9\n",
      "應用程式結束\n"
     ]
    }
   ],
   "source": [
    "#奇數輸出平方\n",
    "#偶數不做任何動作\n",
    "#'q'要離開\n",
    "\n",
    "while(True):\n",
    "    value=input(\"請輸入整數，輸入[q]離開:\")\n",
    "    if value==\"q\":\n",
    "        break\n",
    "    elif(int(value)%2==0):\n",
    "        continue\n",
    "    else:\n",
    "        print(f\"{value}的平方是{int(value)**2}\")\n",
    "print(\"應用程式結束\")"
   ]
  }
 ],
 "metadata": {
  "kernelspec": {
   "display_name": "base",
   "language": "python",
   "name": "python3"
  },
  "language_info": {
   "codemirror_mode": {
    "name": "ipython",
    "version": 3
   },
   "file_extension": ".py",
   "mimetype": "text/x-python",
   "name": "python",
   "nbconvert_exporter": "python",
   "pygments_lexer": "ipython3",
   "version": "3.12.9"
  }
 },
 "nbformat": 4,
 "nbformat_minor": 5
}
