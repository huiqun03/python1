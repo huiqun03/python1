{
 "cells": [
  {
   "cell_type": "markdown",
   "id": "0e4b3f66",
   "metadata": {},
   "source": [
    "* BMI計算"
   ]
  },
  {
   "cell_type": "code",
   "execution_count": 1,
   "id": "b59eef95",
   "metadata": {},
   "outputs": [
    {
     "name": "stdout",
     "output_type": "stream",
     "text": [
      "您的體重為: 86.5\n",
      "您的身高為: 1.64\n",
      "您的BMI數值為: 32.160916121356344\n"
     ]
    }
   ],
   "source": [
    "weight=eval(input(\"請輸入體重(公斤):\"))\n",
    "height=eval(input(\"請輸入身高(公尺):\"))\n",
    "BMI=weight/height**2\n",
    "print(\"您的體重為:\",weight)\n",
    "print(\"您的身高為:\",height)\n",
    "print(\"您的BMI數值為:\",BMI)"
   ]
  }
 ],
 "metadata": {
  "kernelspec": {
   "display_name": "base",
   "language": "python",
   "name": "python3"
  },
  "language_info": {
   "codemirror_mode": {
    "name": "ipython",
    "version": 3
   },
   "file_extension": ".py",
   "mimetype": "text/x-python",
   "name": "python",
   "nbconvert_exporter": "python",
   "pygments_lexer": "ipython3",
   "version": "3.13.2"
  }
 },
 "nbformat": 4,
 "nbformat_minor": 5
}
